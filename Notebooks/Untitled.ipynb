{
 "cells": [
  {
   "cell_type": "code",
   "execution_count": 3,
   "metadata": {},
   "outputs": [
    {
     "ename": "TypeError",
     "evalue": "__new__() got an unexpected keyword argument 'serialized_options'",
     "output_type": "error",
     "traceback": [
      "\u001b[1;31m---------------------------------------------------------------------------\u001b[0m",
      "\u001b[1;31mTypeError\u001b[0m                                 Traceback (most recent call last)",
      "\u001b[1;32m<ipython-input-3-0cfa6c7f778f>\u001b[0m in \u001b[0;36m<module>\u001b[1;34m()\u001b[0m\n\u001b[0;32m      2\u001b[0m \u001b[1;32mimport\u001b[0m \u001b[0mos\u001b[0m\u001b[1;33m\u001b[0m\u001b[0m\n\u001b[0;32m      3\u001b[0m \u001b[1;33m\u001b[0m\u001b[0m\n\u001b[1;32m----> 4\u001b[1;33m \u001b[1;32mfrom\u001b[0m \u001b[0mgoogle\u001b[0m\u001b[1;33m.\u001b[0m\u001b[0mcloud\u001b[0m \u001b[1;32mimport\u001b[0m \u001b[0mspeech\u001b[0m\u001b[1;33m\u001b[0m\u001b[0m\n\u001b[0m\u001b[0;32m      5\u001b[0m \u001b[1;32mfrom\u001b[0m \u001b[0mgoogle\u001b[0m\u001b[1;33m.\u001b[0m\u001b[0mcloud\u001b[0m\u001b[1;33m.\u001b[0m\u001b[0mspeech\u001b[0m \u001b[1;32mimport\u001b[0m \u001b[0menums\u001b[0m\u001b[1;33m\u001b[0m\u001b[0m\n\u001b[0;32m      6\u001b[0m \u001b[1;32mfrom\u001b[0m \u001b[0mgoogle\u001b[0m\u001b[1;33m.\u001b[0m\u001b[0mcloud\u001b[0m\u001b[1;33m.\u001b[0m\u001b[0mspeech\u001b[0m \u001b[1;32mimport\u001b[0m \u001b[0mtypes\u001b[0m\u001b[1;33m\u001b[0m\u001b[0m\n",
      "\u001b[1;32m~\\Anaconda3\\envs\\tfp3.6\\lib\\site-packages\\google\\cloud\\speech.py\u001b[0m in \u001b[0;36m<module>\u001b[1;34m()\u001b[0m\n\u001b[0;32m     17\u001b[0m \u001b[1;32mfrom\u001b[0m \u001b[0m__future__\u001b[0m \u001b[1;32mimport\u001b[0m \u001b[0mabsolute_import\u001b[0m\u001b[1;33m\u001b[0m\u001b[0m\n\u001b[0;32m     18\u001b[0m \u001b[1;33m\u001b[0m\u001b[0m\n\u001b[1;32m---> 19\u001b[1;33m \u001b[1;32mfrom\u001b[0m \u001b[0mgoogle\u001b[0m\u001b[1;33m.\u001b[0m\u001b[0mcloud\u001b[0m\u001b[1;33m.\u001b[0m\u001b[0mspeech_v1\u001b[0m \u001b[1;32mimport\u001b[0m \u001b[0mSpeechClient\u001b[0m\u001b[1;33m\u001b[0m\u001b[0m\n\u001b[0m\u001b[0;32m     20\u001b[0m \u001b[1;32mfrom\u001b[0m \u001b[0mgoogle\u001b[0m\u001b[1;33m.\u001b[0m\u001b[0mcloud\u001b[0m\u001b[1;33m.\u001b[0m\u001b[0mspeech_v1\u001b[0m \u001b[1;32mimport\u001b[0m \u001b[0menums\u001b[0m\u001b[1;33m\u001b[0m\u001b[0m\n\u001b[0;32m     21\u001b[0m \u001b[1;32mfrom\u001b[0m \u001b[0mgoogle\u001b[0m\u001b[1;33m.\u001b[0m\u001b[0mcloud\u001b[0m\u001b[1;33m.\u001b[0m\u001b[0mspeech_v1\u001b[0m \u001b[1;32mimport\u001b[0m \u001b[0mtypes\u001b[0m\u001b[1;33m\u001b[0m\u001b[0m\n",
      "\u001b[1;32m~\\Anaconda3\\envs\\tfp3.6\\lib\\site-packages\\google\\cloud\\speech_v1\\__init__.py\u001b[0m in \u001b[0;36m<module>\u001b[1;34m()\u001b[0m\n\u001b[0;32m     15\u001b[0m \u001b[1;32mfrom\u001b[0m \u001b[0m__future__\u001b[0m \u001b[1;32mimport\u001b[0m \u001b[0mabsolute_import\u001b[0m\u001b[1;33m\u001b[0m\u001b[0m\n\u001b[0;32m     16\u001b[0m \u001b[1;33m\u001b[0m\u001b[0m\n\u001b[1;32m---> 17\u001b[1;33m \u001b[1;32mfrom\u001b[0m \u001b[0mgoogle\u001b[0m\u001b[1;33m.\u001b[0m\u001b[0mcloud\u001b[0m\u001b[1;33m.\u001b[0m\u001b[0mspeech_v1\u001b[0m\u001b[1;33m.\u001b[0m\u001b[0mgapic\u001b[0m \u001b[1;32mimport\u001b[0m \u001b[0mspeech_client\u001b[0m\u001b[1;33m\u001b[0m\u001b[0m\n\u001b[0m\u001b[0;32m     18\u001b[0m \u001b[1;32mfrom\u001b[0m \u001b[0mgoogle\u001b[0m\u001b[1;33m.\u001b[0m\u001b[0mcloud\u001b[0m\u001b[1;33m.\u001b[0m\u001b[0mspeech_v1\u001b[0m\u001b[1;33m.\u001b[0m\u001b[0mgapic\u001b[0m \u001b[1;32mimport\u001b[0m \u001b[0menums\u001b[0m\u001b[1;33m\u001b[0m\u001b[0m\n\u001b[0;32m     19\u001b[0m \u001b[1;33m\u001b[0m\u001b[0m\n",
      "\u001b[1;32m~\\Anaconda3\\envs\\tfp3.6\\lib\\site-packages\\google\\cloud\\speech_v1\\gapic\\speech_client.py\u001b[0m in \u001b[0;36m<module>\u001b[1;34m()\u001b[0m\n\u001b[0;32m     24\u001b[0m \u001b[1;32mimport\u001b[0m \u001b[0mgoogle\u001b[0m\u001b[1;33m.\u001b[0m\u001b[0mapi_core\u001b[0m\u001b[1;33m.\u001b[0m\u001b[0mgapic_v1\u001b[0m\u001b[1;33m.\u001b[0m\u001b[0mmethod\u001b[0m\u001b[1;33m\u001b[0m\u001b[0m\n\u001b[0;32m     25\u001b[0m \u001b[1;32mimport\u001b[0m \u001b[0mgoogle\u001b[0m\u001b[1;33m.\u001b[0m\u001b[0mapi_core\u001b[0m\u001b[1;33m.\u001b[0m\u001b[0mgrpc_helpers\u001b[0m\u001b[1;33m\u001b[0m\u001b[0m\n\u001b[1;32m---> 26\u001b[1;33m \u001b[1;32mimport\u001b[0m \u001b[0mgoogle\u001b[0m\u001b[1;33m.\u001b[0m\u001b[0mapi_core\u001b[0m\u001b[1;33m.\u001b[0m\u001b[0moperation\u001b[0m\u001b[1;33m\u001b[0m\u001b[0m\n\u001b[0m\u001b[0;32m     27\u001b[0m \u001b[1;32mimport\u001b[0m \u001b[0mgoogle\u001b[0m\u001b[1;33m.\u001b[0m\u001b[0mapi_core\u001b[0m\u001b[1;33m.\u001b[0m\u001b[0moperations_v1\u001b[0m\u001b[1;33m\u001b[0m\u001b[0m\n\u001b[0;32m     28\u001b[0m \u001b[1;32mimport\u001b[0m \u001b[0mgoogle\u001b[0m\u001b[1;33m.\u001b[0m\u001b[0mapi_core\u001b[0m\u001b[1;33m.\u001b[0m\u001b[0mprotobuf_helpers\u001b[0m\u001b[1;33m\u001b[0m\u001b[0m\n",
      "\u001b[1;32m~\\Anaconda3\\envs\\tfp3.6\\lib\\site-packages\\google\\api_core\\operation.py\u001b[0m in \u001b[0;36m<module>\u001b[1;34m()\u001b[0m\n\u001b[0;32m     43\u001b[0m \u001b[1;32mfrom\u001b[0m \u001b[0mgoogle\u001b[0m\u001b[1;33m.\u001b[0m\u001b[0mapi_core\u001b[0m \u001b[1;32mimport\u001b[0m \u001b[0mprotobuf_helpers\u001b[0m\u001b[1;33m\u001b[0m\u001b[0m\n\u001b[0;32m     44\u001b[0m \u001b[1;32mfrom\u001b[0m \u001b[0mgoogle\u001b[0m\u001b[1;33m.\u001b[0m\u001b[0mapi_core\u001b[0m\u001b[1;33m.\u001b[0m\u001b[0mfuture\u001b[0m \u001b[1;32mimport\u001b[0m \u001b[0mpolling\u001b[0m\u001b[1;33m\u001b[0m\u001b[0m\n\u001b[1;32m---> 45\u001b[1;33m \u001b[1;32mfrom\u001b[0m \u001b[0mgoogle\u001b[0m\u001b[1;33m.\u001b[0m\u001b[0mlongrunning\u001b[0m \u001b[1;32mimport\u001b[0m \u001b[0moperations_pb2\u001b[0m\u001b[1;33m\u001b[0m\u001b[0m\n\u001b[0m\u001b[0;32m     46\u001b[0m \u001b[1;32mfrom\u001b[0m \u001b[0mgoogle\u001b[0m\u001b[1;33m.\u001b[0m\u001b[0mprotobuf\u001b[0m \u001b[1;32mimport\u001b[0m \u001b[0mjson_format\u001b[0m\u001b[1;33m\u001b[0m\u001b[0m\n\u001b[0;32m     47\u001b[0m \u001b[1;32mfrom\u001b[0m \u001b[0mgoogle\u001b[0m\u001b[1;33m.\u001b[0m\u001b[0mrpc\u001b[0m \u001b[1;32mimport\u001b[0m \u001b[0mcode_pb2\u001b[0m\u001b[1;33m\u001b[0m\u001b[0m\n",
      "\u001b[1;32m~\\Anaconda3\\envs\\tfp3.6\\lib\\site-packages\\google\\longrunning\\operations_pb2.py\u001b[0m in \u001b[0;36m<module>\u001b[1;34m()\u001b[0m\n\u001b[0;32m     21\u001b[0m \u001b[1;33m\u001b[0m\u001b[0m\n\u001b[0;32m     22\u001b[0m \u001b[1;32mtry\u001b[0m\u001b[1;33m:\u001b[0m\u001b[1;33m\u001b[0m\u001b[0m\n\u001b[1;32m---> 23\u001b[1;33m   \u001b[1;32mfrom\u001b[0m \u001b[0mgoogle\u001b[0m\u001b[1;33m.\u001b[0m\u001b[0mlongrunning\u001b[0m\u001b[1;33m.\u001b[0m\u001b[0moperations_grpc_pb2\u001b[0m \u001b[1;32mimport\u001b[0m \u001b[1;33m*\u001b[0m\u001b[1;33m\u001b[0m\u001b[0m\n\u001b[0m\u001b[0;32m     24\u001b[0m   \u001b[1;32mfrom\u001b[0m \u001b[0mgoogle\u001b[0m\u001b[1;33m.\u001b[0m\u001b[0mlongrunning\u001b[0m\u001b[1;33m.\u001b[0m\u001b[0moperations_grpc_pb2\u001b[0m \u001b[1;32mimport\u001b[0m \u001b[0m_OPERATION\u001b[0m\u001b[1;33m\u001b[0m\u001b[0m\n\u001b[0;32m     25\u001b[0m \u001b[1;32mexcept\u001b[0m \u001b[0mImportError\u001b[0m\u001b[1;33m:\u001b[0m\u001b[1;33m\u001b[0m\u001b[0m\n",
      "\u001b[1;32m~\\Anaconda3\\envs\\tfp3.6\\lib\\site-packages\\google\\longrunning\\operations_grpc_pb2.py\u001b[0m in \u001b[0;36m<module>\u001b[1;34m()\u001b[0m\n\u001b[0;32m     14\u001b[0m \u001b[1;33m\u001b[0m\u001b[0m\n\u001b[0;32m     15\u001b[0m \u001b[1;33m\u001b[0m\u001b[0m\n\u001b[1;32m---> 16\u001b[1;33m \u001b[1;32mfrom\u001b[0m \u001b[0mgoogle\u001b[0m\u001b[1;33m.\u001b[0m\u001b[0mapi\u001b[0m \u001b[1;32mimport\u001b[0m \u001b[0mannotations_pb2\u001b[0m \u001b[1;32mas\u001b[0m \u001b[0mgoogle_dot_api_dot_annotations__pb2\u001b[0m\u001b[1;33m\u001b[0m\u001b[0m\n\u001b[0m\u001b[0;32m     17\u001b[0m \u001b[1;32mfrom\u001b[0m \u001b[0mgoogle\u001b[0m\u001b[1;33m.\u001b[0m\u001b[0mprotobuf\u001b[0m \u001b[1;32mimport\u001b[0m \u001b[0many_pb2\u001b[0m \u001b[1;32mas\u001b[0m \u001b[0mgoogle_dot_protobuf_dot_any__pb2\u001b[0m\u001b[1;33m\u001b[0m\u001b[0m\n\u001b[0;32m     18\u001b[0m \u001b[1;32mfrom\u001b[0m \u001b[0mgoogle\u001b[0m\u001b[1;33m.\u001b[0m\u001b[0mprotobuf\u001b[0m \u001b[1;32mimport\u001b[0m \u001b[0mempty_pb2\u001b[0m \u001b[1;32mas\u001b[0m \u001b[0mgoogle_dot_protobuf_dot_empty__pb2\u001b[0m\u001b[1;33m\u001b[0m\u001b[0m\n",
      "\u001b[1;32m~\\Anaconda3\\envs\\tfp3.6\\lib\\site-packages\\google\\api\\annotations_pb2.py\u001b[0m in \u001b[0;36m<module>\u001b[1;34m()\u001b[0m\n\u001b[0;32m     13\u001b[0m \u001b[1;33m\u001b[0m\u001b[0m\n\u001b[0;32m     14\u001b[0m \u001b[1;33m\u001b[0m\u001b[0m\n\u001b[1;32m---> 15\u001b[1;33m \u001b[1;32mfrom\u001b[0m \u001b[0mgoogle\u001b[0m\u001b[1;33m.\u001b[0m\u001b[0mapi\u001b[0m \u001b[1;32mimport\u001b[0m \u001b[0mhttp_pb2\u001b[0m \u001b[1;32mas\u001b[0m \u001b[0mgoogle_dot_api_dot_http__pb2\u001b[0m\u001b[1;33m\u001b[0m\u001b[0m\n\u001b[0m\u001b[0;32m     16\u001b[0m \u001b[1;32mfrom\u001b[0m \u001b[0mgoogle\u001b[0m\u001b[1;33m.\u001b[0m\u001b[0mprotobuf\u001b[0m \u001b[1;32mimport\u001b[0m \u001b[0mdescriptor_pb2\u001b[0m \u001b[1;32mas\u001b[0m \u001b[0mgoogle_dot_protobuf_dot_descriptor__pb2\u001b[0m\u001b[1;33m\u001b[0m\u001b[0m\n\u001b[0;32m     17\u001b[0m \u001b[1;33m\u001b[0m\u001b[0m\n",
      "\u001b[1;32m~\\Anaconda3\\envs\\tfp3.6\\lib\\site-packages\\google\\api\\http_pb2.py\u001b[0m in \u001b[0;36m<module>\u001b[1;34m()\u001b[0m\n\u001b[0;32m     20\u001b[0m   \u001b[0msyntax\u001b[0m\u001b[1;33m=\u001b[0m\u001b[1;34m'proto3'\u001b[0m\u001b[1;33m,\u001b[0m\u001b[1;33m\u001b[0m\u001b[0m\n\u001b[0;32m     21\u001b[0m   \u001b[0mserialized_options\u001b[0m\u001b[1;33m=\u001b[0m\u001b[0m_b\u001b[0m\u001b[1;33m(\u001b[0m\u001b[1;34m'\\n\\016com.google.apiB\\tHttpProtoP\\001ZAgoogle.golang.org/genproto/googleapis/api/annotations;annotations\\370\\001\\001\\242\\002\\004GAPI'\u001b[0m\u001b[1;33m)\u001b[0m\u001b[1;33m,\u001b[0m\u001b[1;33m\u001b[0m\u001b[0m\n\u001b[1;32m---> 22\u001b[1;33m   \u001b[0mserialized_pb\u001b[0m\u001b[1;33m=\u001b[0m\u001b[0m_b\u001b[0m\u001b[1;33m(\u001b[0m\u001b[1;34m'\\n\\x15google/api/http.proto\\x12\\ngoogle.api\\\"T\\n\\x04Http\\x12#\\n\\x05rules\\x18\\x01 \\x03(\\x0b\\x32\\x14.google.api.HttpRule\\x12\\'\\n\\x1f\\x66ully_decode_reserved_expansion\\x18\\x02 \\x01(\\x08\\\"\\x81\\x02\\n\\x08HttpRule\\x12\\x10\\n\\x08selector\\x18\\x01 \\x01(\\t\\x12\\r\\n\\x03get\\x18\\x02 \\x01(\\tH\\x00\\x12\\r\\n\\x03put\\x18\\x03 \\x01(\\tH\\x00\\x12\\x0e\\n\\x04post\\x18\\x04 \\x01(\\tH\\x00\\x12\\x10\\n\\x06\\x64\\x65lete\\x18\\x05 \\x01(\\tH\\x00\\x12\\x0f\\n\\x05patch\\x18\\x06 \\x01(\\tH\\x00\\x12/\\n\\x06\\x63ustom\\x18\\x08 \\x01(\\x0b\\x32\\x1d.google.api.CustomHttpPatternH\\x00\\x12\\x0c\\n\\x04\\x62ody\\x18\\x07 \\x01(\\t\\x12\\x15\\n\\rresponse_body\\x18\\x0c \\x01(\\t\\x12\\x31\\n\\x13\\x61\\x64\\x64itional_bindings\\x18\\x0b \\x03(\\x0b\\x32\\x14.google.api.HttpRuleB\\t\\n\\x07pattern\\\"/\\n\\x11\\x43ustomHttpPattern\\x12\\x0c\\n\\x04kind\\x18\\x01 \\x01(\\t\\x12\\x0c\\n\\x04path\\x18\\x02 \\x01(\\tBj\\n\\x0e\\x63om.google.apiB\\tHttpProtoP\\x01ZAgoogle.golang.org/genproto/googleapis/api/annotations;annotations\\xf8\\x01\\x01\\xa2\\x02\\x04GAPIb\\x06proto3'\u001b[0m\u001b[1;33m)\u001b[0m\u001b[1;33m\u001b[0m\u001b[0m\n\u001b[0m\u001b[0;32m     23\u001b[0m )\n\u001b[0;32m     24\u001b[0m \u001b[1;33m\u001b[0m\u001b[0m\n",
      "\u001b[1;31mTypeError\u001b[0m: __new__() got an unexpected keyword argument 'serialized_options'"
     ]
    }
   ],
   "source": [
    "import io\n",
    "import os\n",
    "\n",
    "from google.cloud import speech\n",
    "from google.cloud.speech import enums\n",
    "from google.cloud.speech import types\n",
    "\n",
    "client = speech.SpeechClient()\n",
    "\n",
    "audio = types.RecognitionAudio(uri='gs://mom_tip_files/wayne-olson.long.wav')\n",
    "config = types.RecognitionConfig(\n",
    "        encoding=enums.RecognitionConfig.AudioEncoding.LINEAR16,\n",
    "        sample_rate_hertz=16000,\n",
    "        language_code='en-US',\n",
    "        use_enhanced=True,\n",
    "        model='phone_call'\n",
    "        )\n",
    "\n",
    "operation = client.long_running_recognize(config, audio)\n",
    "\n",
    "print('Waiting for op to complete...')\n",
    "\n",
    "response = operation.result(timeout=600)\n",
    "\n",
    "for result in response.results:\n",
    "    print('Transcript: {}'.format(result.alternatives[0].transcript))\n",
    "    print('Confidence: {}'.format(result.alternatives[0].confidence))\n",
    "\n"
   ]
  },
  {
   "cell_type": "code",
   "execution_count": 2,
   "metadata": {},
   "outputs": [
    {
     "name": "stdout",
     "output_type": "stream",
     "text": [
      "Collecting google-cloud-speech\n",
      "  Downloading https://files.pythonhosted.org/packages/9a/a4/49b8e7b6b89facc17e554abe6aa401e01e076b64f79745e666460a8d5bd6/google_cloud_speech-0.36.0-py2.py3-none-any.whl (54kB)\n",
      "Collecting google-api-core[grpc]<2.0.0dev,>=0.1.4 (from google-cloud-speech)\n",
      "  Downloading https://files.pythonhosted.org/packages/f1/88/7055a6248cb4682c4788a3d695a2e119c8502a618ce4bee72ef58c595f65/google_api_core-1.5.2-py2.py3-none-any.whl (62kB)\n",
      "Collecting google-auth<2.0dev,>=0.4.0 (from google-api-core[grpc]<2.0.0dev,>=0.1.4->google-cloud-speech)\n",
      "  Downloading https://files.pythonhosted.org/packages/24/62/8b9612b1055cfbecd577e252446fe5f939f6818d0b7ddc27bb872f233cd4/google_auth-1.6.1-py2.py3-none-any.whl (68kB)\n",
      "Requirement already satisfied: protobuf>=3.4.0 in c:\\users\\innovation\\anaconda3\\envs\\tfp3.6\\lib\\site-packages (from google-api-core[grpc]<2.0.0dev,>=0.1.4->google-cloud-speech) (3.5.2.post1)\n",
      "Requirement already satisfied: pytz in c:\\users\\innovation\\anaconda3\\envs\\tfp3.6\\lib\\site-packages (from google-api-core[grpc]<2.0.0dev,>=0.1.4->google-cloud-speech) (2018.4)\n",
      "Requirement already satisfied: requests<3.0.0dev,>=2.18.0 in c:\\users\\innovation\\anaconda3\\envs\\tfp3.6\\lib\\site-packages (from google-api-core[grpc]<2.0.0dev,>=0.1.4->google-cloud-speech) (2.18.4)\n",
      "Requirement already satisfied: six>=1.10.0 in c:\\users\\innovation\\anaconda3\\envs\\tfp3.6\\lib\\site-packages (from google-api-core[grpc]<2.0.0dev,>=0.1.4->google-cloud-speech) (1.11.0)\n",
      "Collecting googleapis-common-protos!=1.5.4,<2.0dev,>=1.5.3 (from google-api-core[grpc]<2.0.0dev,>=0.1.4->google-cloud-speech)\n",
      "  Downloading https://files.pythonhosted.org/packages/ae/94/a256572abf5d10347301c638d5df552fab1515497270726e6b56698d2e99/googleapis-common-protos-1.5.5.tar.gz\n",
      "Requirement already satisfied: setuptools>=34.0.0 in c:\\users\\innovation\\anaconda3\\envs\\tfp3.6\\lib\\site-packages (from google-api-core[grpc]<2.0.0dev,>=0.1.4->google-cloud-speech) (39.1.0)\n",
      "Requirement already satisfied: grpcio>=1.8.2; extra == \"grpc\" in c:\\users\\innovation\\anaconda3\\envs\\tfp3.6\\lib\\site-packages (from google-api-core[grpc]<2.0.0dev,>=0.1.4->google-cloud-speech) (1.12.0)\n",
      "Collecting pyasn1-modules>=0.2.1 (from google-auth<2.0dev,>=0.4.0->google-api-core[grpc]<2.0.0dev,>=0.1.4->google-cloud-speech)\n",
      "  Downloading https://files.pythonhosted.org/packages/19/02/fa63f7ba30a0d7b925ca29d034510fc1ffde53264b71b4155022ddf3ab5d/pyasn1_modules-0.2.2-py2.py3-none-any.whl (62kB)\n",
      "Collecting cachetools>=2.0.0 (from google-auth<2.0dev,>=0.4.0->google-api-core[grpc]<2.0.0dev,>=0.1.4->google-cloud-speech)\n",
      "  Downloading https://files.pythonhosted.org/packages/76/7e/08cd3846bebeabb6b1cfc4af8aae649d90249b4aeed080bddb5297f1d73b/cachetools-3.0.0-py2.py3-none-any.whl\n",
      "Collecting rsa>=3.1.4 (from google-auth<2.0dev,>=0.4.0->google-api-core[grpc]<2.0.0dev,>=0.1.4->google-cloud-speech)\n",
      "  Downloading https://files.pythonhosted.org/packages/02/e5/38518af393f7c214357079ce67a317307936896e961e35450b70fad2a9cf/rsa-4.0-py2.py3-none-any.whl\n",
      "Requirement already satisfied: certifi>=2017.4.17 in c:\\users\\innovation\\anaconda3\\envs\\tfp3.6\\lib\\site-packages (from requests<3.0.0dev,>=2.18.0->google-api-core[grpc]<2.0.0dev,>=0.1.4->google-cloud-speech) (2018.4.16)\n",
      "Requirement already satisfied: idna<2.7,>=2.5 in c:\\users\\innovation\\anaconda3\\envs\\tfp3.6\\lib\\site-packages (from requests<3.0.0dev,>=2.18.0->google-api-core[grpc]<2.0.0dev,>=0.1.4->google-cloud-speech) (2.6)\n",
      "Requirement already satisfied: urllib3<1.23,>=1.21.1 in c:\\users\\innovation\\anaconda3\\envs\\tfp3.6\\lib\\site-packages (from requests<3.0.0dev,>=2.18.0->google-api-core[grpc]<2.0.0dev,>=0.1.4->google-cloud-speech) (1.22)\n",
      "Requirement already satisfied: chardet<3.1.0,>=3.0.2 in c:\\users\\innovation\\anaconda3\\envs\\tfp3.6\\lib\\site-packages (from requests<3.0.0dev,>=2.18.0->google-api-core[grpc]<2.0.0dev,>=0.1.4->google-cloud-speech) (3.0.4)\n",
      "Collecting pyasn1<0.5.0,>=0.4.1 (from pyasn1-modules>=0.2.1->google-auth<2.0dev,>=0.4.0->google-api-core[grpc]<2.0.0dev,>=0.1.4->google-cloud-speech)\n",
      "  Downloading https://files.pythonhosted.org/packages/d1/a1/7790cc85db38daa874f6a2e6308131b9953feb1367f2ae2d1123bb93a9f5/pyasn1-0.4.4-py2.py3-none-any.whl (72kB)\n",
      "Building wheels for collected packages: googleapis-common-protos\n",
      "  Running setup.py bdist_wheel for googleapis-common-protos: started\n",
      "  Running setup.py bdist_wheel for googleapis-common-protos: finished with status 'done'\n",
      "  Stored in directory: C:\\Users\\innovation\\AppData\\Local\\pip\\Cache\\wheels\\22\\57\\2c\\fdf1a5d9f14360bd1123c6dbac26eb784eba25223800239a69\n",
      "Successfully built googleapis-common-protos\n",
      "Installing collected packages: pyasn1, pyasn1-modules, cachetools, rsa, google-auth, googleapis-common-protos, google-api-core, google-cloud-speech\n",
      "Successfully installed cachetools-3.0.0 google-api-core-1.5.2 google-auth-1.6.1 google-cloud-speech-0.36.0 googleapis-common-protos-1.5.5 pyasn1-0.4.4 pyasn1-modules-0.2.2 rsa-4.0\n"
     ]
    },
    {
     "name": "stderr",
     "output_type": "stream",
     "text": [
      "mkl-random 1.0.1 requires cython, which is not installed.\n",
      "mkl-fft 1.0.0 requires cython, which is not installed.\n",
      "You are using pip version 10.0.1, however version 18.1 is available.\n",
      "You should consider upgrading via the 'python -m pip install --upgrade pip' command.\n"
     ]
    }
   ],
   "source": [
    "! pip install google-cloud-speech"
   ]
  },
  {
   "cell_type": "code",
   "execution_count": 4,
   "metadata": {},
   "outputs": [
    {
     "name": "stdout",
     "output_type": "stream",
     "text": [
      "Collecting virtualenv\n",
      "  Downloading https://files.pythonhosted.org/packages/7c/17/9b7b6cddfd255388b58c61e25b091047f6814183e1d63741c8df8dcd65a2/virtualenv-16.1.0-py2.py3-none-any.whl (1.9MB)\n",
      "Installing collected packages: virtualenv\n",
      "Successfully installed virtualenv-16.1.0\n"
     ]
    },
    {
     "name": "stderr",
     "output_type": "stream",
     "text": [
      "mkl-random 1.0.1 requires cython, which is not installed.\n",
      "mkl-fft 1.0.0 requires cython, which is not installed.\n",
      "You are using pip version 10.0.1, however version 18.1 is available.\n",
      "You should consider upgrading via the 'python -m pip install --upgrade pip' command.\n"
     ]
    }
   ],
   "source": [
    "! pip install virtualenv\n"
   ]
  },
  {
   "cell_type": "code",
   "execution_count": 1,
   "metadata": {},
   "outputs": [
    {
     "ename": "TypeError",
     "evalue": "__new__() got an unexpected keyword argument 'serialized_options'",
     "output_type": "error",
     "traceback": [
      "\u001b[1;31m---------------------------------------------------------------------------\u001b[0m",
      "\u001b[1;31mTypeError\u001b[0m                                 Traceback (most recent call last)",
      "\u001b[1;32m<ipython-input-1-2663ca1c72eb>\u001b[0m in \u001b[0;36m<module>\u001b[1;34m()\u001b[0m\n\u001b[1;32m----> 1\u001b[1;33m \u001b[1;32mfrom\u001b[0m \u001b[0mgoogle\u001b[0m\u001b[1;33m.\u001b[0m\u001b[0mcloud\u001b[0m \u001b[1;32mimport\u001b[0m \u001b[0mspeech\u001b[0m\u001b[1;33m\u001b[0m\u001b[0m\n\u001b[0m\u001b[0;32m      2\u001b[0m \u001b[1;31m#from google.cloud.speech import enums\u001b[0m\u001b[1;33m\u001b[0m\u001b[1;33m\u001b[0m\u001b[0m\n\u001b[0;32m      3\u001b[0m \u001b[1;31m#from google.cloud.speech import types\u001b[0m\u001b[1;33m\u001b[0m\u001b[1;33m\u001b[0m\u001b[0m\n",
      "\u001b[1;32m~\\Anaconda3\\envs\\tfp3.6\\lib\\site-packages\\google\\cloud\\speech.py\u001b[0m in \u001b[0;36m<module>\u001b[1;34m()\u001b[0m\n\u001b[0;32m     17\u001b[0m \u001b[1;32mfrom\u001b[0m \u001b[0m__future__\u001b[0m \u001b[1;32mimport\u001b[0m \u001b[0mabsolute_import\u001b[0m\u001b[1;33m\u001b[0m\u001b[0m\n\u001b[0;32m     18\u001b[0m \u001b[1;33m\u001b[0m\u001b[0m\n\u001b[1;32m---> 19\u001b[1;33m \u001b[1;32mfrom\u001b[0m \u001b[0mgoogle\u001b[0m\u001b[1;33m.\u001b[0m\u001b[0mcloud\u001b[0m\u001b[1;33m.\u001b[0m\u001b[0mspeech_v1\u001b[0m \u001b[1;32mimport\u001b[0m \u001b[0mSpeechClient\u001b[0m\u001b[1;33m\u001b[0m\u001b[0m\n\u001b[0m\u001b[0;32m     20\u001b[0m \u001b[1;32mfrom\u001b[0m \u001b[0mgoogle\u001b[0m\u001b[1;33m.\u001b[0m\u001b[0mcloud\u001b[0m\u001b[1;33m.\u001b[0m\u001b[0mspeech_v1\u001b[0m \u001b[1;32mimport\u001b[0m \u001b[0menums\u001b[0m\u001b[1;33m\u001b[0m\u001b[0m\n\u001b[0;32m     21\u001b[0m \u001b[1;32mfrom\u001b[0m \u001b[0mgoogle\u001b[0m\u001b[1;33m.\u001b[0m\u001b[0mcloud\u001b[0m\u001b[1;33m.\u001b[0m\u001b[0mspeech_v1\u001b[0m \u001b[1;32mimport\u001b[0m \u001b[0mtypes\u001b[0m\u001b[1;33m\u001b[0m\u001b[0m\n",
      "\u001b[1;32m~\\Anaconda3\\envs\\tfp3.6\\lib\\site-packages\\google\\cloud\\speech_v1\\__init__.py\u001b[0m in \u001b[0;36m<module>\u001b[1;34m()\u001b[0m\n\u001b[0;32m     15\u001b[0m \u001b[1;32mfrom\u001b[0m \u001b[0m__future__\u001b[0m \u001b[1;32mimport\u001b[0m \u001b[0mabsolute_import\u001b[0m\u001b[1;33m\u001b[0m\u001b[0m\n\u001b[0;32m     16\u001b[0m \u001b[1;33m\u001b[0m\u001b[0m\n\u001b[1;32m---> 17\u001b[1;33m \u001b[1;32mfrom\u001b[0m \u001b[0mgoogle\u001b[0m\u001b[1;33m.\u001b[0m\u001b[0mcloud\u001b[0m\u001b[1;33m.\u001b[0m\u001b[0mspeech_v1\u001b[0m\u001b[1;33m.\u001b[0m\u001b[0mgapic\u001b[0m \u001b[1;32mimport\u001b[0m \u001b[0mspeech_client\u001b[0m\u001b[1;33m\u001b[0m\u001b[0m\n\u001b[0m\u001b[0;32m     18\u001b[0m \u001b[1;32mfrom\u001b[0m \u001b[0mgoogle\u001b[0m\u001b[1;33m.\u001b[0m\u001b[0mcloud\u001b[0m\u001b[1;33m.\u001b[0m\u001b[0mspeech_v1\u001b[0m\u001b[1;33m.\u001b[0m\u001b[0mgapic\u001b[0m \u001b[1;32mimport\u001b[0m \u001b[0menums\u001b[0m\u001b[1;33m\u001b[0m\u001b[0m\n\u001b[0;32m     19\u001b[0m \u001b[1;33m\u001b[0m\u001b[0m\n",
      "\u001b[1;32m~\\Anaconda3\\envs\\tfp3.6\\lib\\site-packages\\google\\cloud\\speech_v1\\gapic\\speech_client.py\u001b[0m in \u001b[0;36m<module>\u001b[1;34m()\u001b[0m\n\u001b[0;32m     24\u001b[0m \u001b[1;32mimport\u001b[0m \u001b[0mgoogle\u001b[0m\u001b[1;33m.\u001b[0m\u001b[0mapi_core\u001b[0m\u001b[1;33m.\u001b[0m\u001b[0mgapic_v1\u001b[0m\u001b[1;33m.\u001b[0m\u001b[0mmethod\u001b[0m\u001b[1;33m\u001b[0m\u001b[0m\n\u001b[0;32m     25\u001b[0m \u001b[1;32mimport\u001b[0m \u001b[0mgoogle\u001b[0m\u001b[1;33m.\u001b[0m\u001b[0mapi_core\u001b[0m\u001b[1;33m.\u001b[0m\u001b[0mgrpc_helpers\u001b[0m\u001b[1;33m\u001b[0m\u001b[0m\n\u001b[1;32m---> 26\u001b[1;33m \u001b[1;32mimport\u001b[0m \u001b[0mgoogle\u001b[0m\u001b[1;33m.\u001b[0m\u001b[0mapi_core\u001b[0m\u001b[1;33m.\u001b[0m\u001b[0moperation\u001b[0m\u001b[1;33m\u001b[0m\u001b[0m\n\u001b[0m\u001b[0;32m     27\u001b[0m \u001b[1;32mimport\u001b[0m \u001b[0mgoogle\u001b[0m\u001b[1;33m.\u001b[0m\u001b[0mapi_core\u001b[0m\u001b[1;33m.\u001b[0m\u001b[0moperations_v1\u001b[0m\u001b[1;33m\u001b[0m\u001b[0m\n\u001b[0;32m     28\u001b[0m \u001b[1;32mimport\u001b[0m \u001b[0mgoogle\u001b[0m\u001b[1;33m.\u001b[0m\u001b[0mapi_core\u001b[0m\u001b[1;33m.\u001b[0m\u001b[0mprotobuf_helpers\u001b[0m\u001b[1;33m\u001b[0m\u001b[0m\n",
      "\u001b[1;32m~\\Anaconda3\\envs\\tfp3.6\\lib\\site-packages\\google\\api_core\\operation.py\u001b[0m in \u001b[0;36m<module>\u001b[1;34m()\u001b[0m\n\u001b[0;32m     43\u001b[0m \u001b[1;32mfrom\u001b[0m \u001b[0mgoogle\u001b[0m\u001b[1;33m.\u001b[0m\u001b[0mapi_core\u001b[0m \u001b[1;32mimport\u001b[0m \u001b[0mprotobuf_helpers\u001b[0m\u001b[1;33m\u001b[0m\u001b[0m\n\u001b[0;32m     44\u001b[0m \u001b[1;32mfrom\u001b[0m \u001b[0mgoogle\u001b[0m\u001b[1;33m.\u001b[0m\u001b[0mapi_core\u001b[0m\u001b[1;33m.\u001b[0m\u001b[0mfuture\u001b[0m \u001b[1;32mimport\u001b[0m \u001b[0mpolling\u001b[0m\u001b[1;33m\u001b[0m\u001b[0m\n\u001b[1;32m---> 45\u001b[1;33m \u001b[1;32mfrom\u001b[0m \u001b[0mgoogle\u001b[0m\u001b[1;33m.\u001b[0m\u001b[0mlongrunning\u001b[0m \u001b[1;32mimport\u001b[0m \u001b[0moperations_pb2\u001b[0m\u001b[1;33m\u001b[0m\u001b[0m\n\u001b[0m\u001b[0;32m     46\u001b[0m \u001b[1;32mfrom\u001b[0m \u001b[0mgoogle\u001b[0m\u001b[1;33m.\u001b[0m\u001b[0mprotobuf\u001b[0m \u001b[1;32mimport\u001b[0m \u001b[0mjson_format\u001b[0m\u001b[1;33m\u001b[0m\u001b[0m\n\u001b[0;32m     47\u001b[0m \u001b[1;32mfrom\u001b[0m \u001b[0mgoogle\u001b[0m\u001b[1;33m.\u001b[0m\u001b[0mrpc\u001b[0m \u001b[1;32mimport\u001b[0m \u001b[0mcode_pb2\u001b[0m\u001b[1;33m\u001b[0m\u001b[0m\n",
      "\u001b[1;32m~\\Anaconda3\\envs\\tfp3.6\\lib\\site-packages\\google\\longrunning\\operations_pb2.py\u001b[0m in \u001b[0;36m<module>\u001b[1;34m()\u001b[0m\n\u001b[0;32m     21\u001b[0m \u001b[1;33m\u001b[0m\u001b[0m\n\u001b[0;32m     22\u001b[0m \u001b[1;32mtry\u001b[0m\u001b[1;33m:\u001b[0m\u001b[1;33m\u001b[0m\u001b[0m\n\u001b[1;32m---> 23\u001b[1;33m   \u001b[1;32mfrom\u001b[0m \u001b[0mgoogle\u001b[0m\u001b[1;33m.\u001b[0m\u001b[0mlongrunning\u001b[0m\u001b[1;33m.\u001b[0m\u001b[0moperations_grpc_pb2\u001b[0m \u001b[1;32mimport\u001b[0m \u001b[1;33m*\u001b[0m\u001b[1;33m\u001b[0m\u001b[0m\n\u001b[0m\u001b[0;32m     24\u001b[0m   \u001b[1;32mfrom\u001b[0m \u001b[0mgoogle\u001b[0m\u001b[1;33m.\u001b[0m\u001b[0mlongrunning\u001b[0m\u001b[1;33m.\u001b[0m\u001b[0moperations_grpc_pb2\u001b[0m \u001b[1;32mimport\u001b[0m \u001b[0m_OPERATION\u001b[0m\u001b[1;33m\u001b[0m\u001b[0m\n\u001b[0;32m     25\u001b[0m \u001b[1;32mexcept\u001b[0m \u001b[0mImportError\u001b[0m\u001b[1;33m:\u001b[0m\u001b[1;33m\u001b[0m\u001b[0m\n",
      "\u001b[1;32m~\\Anaconda3\\envs\\tfp3.6\\lib\\site-packages\\google\\longrunning\\operations_grpc_pb2.py\u001b[0m in \u001b[0;36m<module>\u001b[1;34m()\u001b[0m\n\u001b[0;32m     14\u001b[0m \u001b[1;33m\u001b[0m\u001b[0m\n\u001b[0;32m     15\u001b[0m \u001b[1;33m\u001b[0m\u001b[0m\n\u001b[1;32m---> 16\u001b[1;33m \u001b[1;32mfrom\u001b[0m \u001b[0mgoogle\u001b[0m\u001b[1;33m.\u001b[0m\u001b[0mapi\u001b[0m \u001b[1;32mimport\u001b[0m \u001b[0mannotations_pb2\u001b[0m \u001b[1;32mas\u001b[0m \u001b[0mgoogle_dot_api_dot_annotations__pb2\u001b[0m\u001b[1;33m\u001b[0m\u001b[0m\n\u001b[0m\u001b[0;32m     17\u001b[0m \u001b[1;32mfrom\u001b[0m \u001b[0mgoogle\u001b[0m\u001b[1;33m.\u001b[0m\u001b[0mprotobuf\u001b[0m \u001b[1;32mimport\u001b[0m \u001b[0many_pb2\u001b[0m \u001b[1;32mas\u001b[0m \u001b[0mgoogle_dot_protobuf_dot_any__pb2\u001b[0m\u001b[1;33m\u001b[0m\u001b[0m\n\u001b[0;32m     18\u001b[0m \u001b[1;32mfrom\u001b[0m \u001b[0mgoogle\u001b[0m\u001b[1;33m.\u001b[0m\u001b[0mprotobuf\u001b[0m \u001b[1;32mimport\u001b[0m \u001b[0mempty_pb2\u001b[0m \u001b[1;32mas\u001b[0m \u001b[0mgoogle_dot_protobuf_dot_empty__pb2\u001b[0m\u001b[1;33m\u001b[0m\u001b[0m\n",
      "\u001b[1;32m~\\Anaconda3\\envs\\tfp3.6\\lib\\site-packages\\google\\api\\annotations_pb2.py\u001b[0m in \u001b[0;36m<module>\u001b[1;34m()\u001b[0m\n\u001b[0;32m     13\u001b[0m \u001b[1;33m\u001b[0m\u001b[0m\n\u001b[0;32m     14\u001b[0m \u001b[1;33m\u001b[0m\u001b[0m\n\u001b[1;32m---> 15\u001b[1;33m \u001b[1;32mfrom\u001b[0m \u001b[0mgoogle\u001b[0m\u001b[1;33m.\u001b[0m\u001b[0mapi\u001b[0m \u001b[1;32mimport\u001b[0m \u001b[0mhttp_pb2\u001b[0m \u001b[1;32mas\u001b[0m \u001b[0mgoogle_dot_api_dot_http__pb2\u001b[0m\u001b[1;33m\u001b[0m\u001b[0m\n\u001b[0m\u001b[0;32m     16\u001b[0m \u001b[1;32mfrom\u001b[0m \u001b[0mgoogle\u001b[0m\u001b[1;33m.\u001b[0m\u001b[0mprotobuf\u001b[0m \u001b[1;32mimport\u001b[0m \u001b[0mdescriptor_pb2\u001b[0m \u001b[1;32mas\u001b[0m \u001b[0mgoogle_dot_protobuf_dot_descriptor__pb2\u001b[0m\u001b[1;33m\u001b[0m\u001b[0m\n\u001b[0;32m     17\u001b[0m \u001b[1;33m\u001b[0m\u001b[0m\n",
      "\u001b[1;32m~\\Anaconda3\\envs\\tfp3.6\\lib\\site-packages\\google\\api\\http_pb2.py\u001b[0m in \u001b[0;36m<module>\u001b[1;34m()\u001b[0m\n\u001b[0;32m     20\u001b[0m   \u001b[0msyntax\u001b[0m\u001b[1;33m=\u001b[0m\u001b[1;34m'proto3'\u001b[0m\u001b[1;33m,\u001b[0m\u001b[1;33m\u001b[0m\u001b[0m\n\u001b[0;32m     21\u001b[0m   \u001b[0mserialized_options\u001b[0m\u001b[1;33m=\u001b[0m\u001b[0m_b\u001b[0m\u001b[1;33m(\u001b[0m\u001b[1;34m'\\n\\016com.google.apiB\\tHttpProtoP\\001ZAgoogle.golang.org/genproto/googleapis/api/annotations;annotations\\370\\001\\001\\242\\002\\004GAPI'\u001b[0m\u001b[1;33m)\u001b[0m\u001b[1;33m,\u001b[0m\u001b[1;33m\u001b[0m\u001b[0m\n\u001b[1;32m---> 22\u001b[1;33m   \u001b[0mserialized_pb\u001b[0m\u001b[1;33m=\u001b[0m\u001b[0m_b\u001b[0m\u001b[1;33m(\u001b[0m\u001b[1;34m'\\n\\x15google/api/http.proto\\x12\\ngoogle.api\\\"T\\n\\x04Http\\x12#\\n\\x05rules\\x18\\x01 \\x03(\\x0b\\x32\\x14.google.api.HttpRule\\x12\\'\\n\\x1f\\x66ully_decode_reserved_expansion\\x18\\x02 \\x01(\\x08\\\"\\x81\\x02\\n\\x08HttpRule\\x12\\x10\\n\\x08selector\\x18\\x01 \\x01(\\t\\x12\\r\\n\\x03get\\x18\\x02 \\x01(\\tH\\x00\\x12\\r\\n\\x03put\\x18\\x03 \\x01(\\tH\\x00\\x12\\x0e\\n\\x04post\\x18\\x04 \\x01(\\tH\\x00\\x12\\x10\\n\\x06\\x64\\x65lete\\x18\\x05 \\x01(\\tH\\x00\\x12\\x0f\\n\\x05patch\\x18\\x06 \\x01(\\tH\\x00\\x12/\\n\\x06\\x63ustom\\x18\\x08 \\x01(\\x0b\\x32\\x1d.google.api.CustomHttpPatternH\\x00\\x12\\x0c\\n\\x04\\x62ody\\x18\\x07 \\x01(\\t\\x12\\x15\\n\\rresponse_body\\x18\\x0c \\x01(\\t\\x12\\x31\\n\\x13\\x61\\x64\\x64itional_bindings\\x18\\x0b \\x03(\\x0b\\x32\\x14.google.api.HttpRuleB\\t\\n\\x07pattern\\\"/\\n\\x11\\x43ustomHttpPattern\\x12\\x0c\\n\\x04kind\\x18\\x01 \\x01(\\t\\x12\\x0c\\n\\x04path\\x18\\x02 \\x01(\\tBj\\n\\x0e\\x63om.google.apiB\\tHttpProtoP\\x01ZAgoogle.golang.org/genproto/googleapis/api/annotations;annotations\\xf8\\x01\\x01\\xa2\\x02\\x04GAPIb\\x06proto3'\u001b[0m\u001b[1;33m)\u001b[0m\u001b[1;33m\u001b[0m\u001b[0m\n\u001b[0m\u001b[0;32m     23\u001b[0m )\n\u001b[0;32m     24\u001b[0m \u001b[1;33m\u001b[0m\u001b[0m\n",
      "\u001b[1;31mTypeError\u001b[0m: __new__() got an unexpected keyword argument 'serialized_options'"
     ]
    }
   ],
   "source": [
    "from google.cloud import speech\n",
    "#from google.cloud.speech import enums\n",
    "#from google.cloud.speech import types\n"
   ]
  },
  {
   "cell_type": "code",
   "execution_count": null,
   "metadata": {},
   "outputs": [],
   "source": [
    "import subprocess\n",
    "\n",
    "\n",
    "r = subprocess.check_output('sh ibm_watson_recognize.sh resources/wayne-olson.long.wav')\n",
    "print (r.decode(\"utf-8\"))\n",
    "#ibm_watson_recognize.sh resources/wayne-olson.long.wav\n",
    "# Call a bash script\n",
    "#subprocess.call(['./ibm_watson_recognize.sh resources/wayne-olson.long.wav'])\n",
    "\n"
   ]
  },
  {
   "cell_type": "code",
   "execution_count": null,
   "metadata": {},
   "outputs": [],
   "source": [
    "! date"
   ]
  },
  {
   "cell_type": "code",
   "execution_count": null,
   "metadata": {},
   "outputs": [],
   "source": []
  }
 ],
 "metadata": {
  "kernelspec": {
   "display_name": "Python 3",
   "language": "python",
   "name": "python3"
  },
  "language_info": {
   "codemirror_mode": {
    "name": "ipython",
    "version": 3
   },
   "file_extension": ".py",
   "mimetype": "text/x-python",
   "name": "python",
   "nbconvert_exporter": "python",
   "pygments_lexer": "ipython3",
   "version": "3.6.5"
  }
 },
 "nbformat": 4,
 "nbformat_minor": 2
}
