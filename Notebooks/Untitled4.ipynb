{
 "cells": [
  {
   "cell_type": "code",
   "execution_count": 1,
   "metadata": {},
   "outputs": [
    {
     "name": "stderr",
     "output_type": "stream",
     "text": [
      "C:\\Users\\innovation\\Anaconda3\\envs\\tfp3.6\\lib\\site-packages\\h5py\\__init__.py:36: FutureWarning: Conversion of the second argument of issubdtype from `float` to `np.floating` is deprecated. In future, it will be treated as `np.float64 == np.dtype(float).type`.\n",
      "  from ._conv import register_converters as _register_converters\n"
     ]
    }
   ],
   "source": [
    "import numpy as np\n",
    "np.random.seed(42)\n",
    "import tensorflow as tf"
   ]
  },
  {
   "cell_type": "code",
   "execution_count": 2,
   "metadata": {},
   "outputs": [],
   "source": [
    "tf.set_random_seed(42)"
   ]
  },
  {
   "cell_type": "code",
   "execution_count": 3,
   "metadata": {},
   "outputs": [
    {
     "name": "stderr",
     "output_type": "stream",
     "text": [
      "Using TensorFlow backend.\n"
     ]
    }
   ],
   "source": [
    "from keras.models import Sequential, load_model"
   ]
  },
  {
   "cell_type": "code",
   "execution_count": 4,
   "metadata": {},
   "outputs": [],
   "source": [
    "from keras.layers import Dense, Activation\n",
    "from keras.layers import LSTM, Dropout\n",
    "from keras.layers import TimeDistributed\n",
    "from keras.layers.core import Dense, Activation, Dropout, RepeatVector"
   ]
  },
  {
   "cell_type": "code",
   "execution_count": 5,
   "metadata": {},
   "outputs": [],
   "source": [
    "from keras.optimizers import RMSprop\n",
    "import matplotlib.pyplot as plt\n",
    "import pickle\n",
    "import sys\n",
    "import heapq\n",
    "from pylab import rcParams"
   ]
  },
  {
   "cell_type": "code",
   "execution_count": 6,
   "metadata": {},
   "outputs": [],
   "source": [
    "import seaborn as sns"
   ]
  },
  {
   "cell_type": "code",
   "execution_count": 7,
   "metadata": {},
   "outputs": [
    {
     "name": "stdout",
     "output_type": "stream",
     "text": [
      "corpus length: 375542\n"
     ]
    }
   ],
   "source": [
    "## loading the file:\n",
    "path = 'nietzsche.txt'\n",
    "# text = open(path).read().lower()\n",
    "from nltk.corpus import gutenberg\n",
    "\n",
    "text = \"\"\n",
    "for fileid in ['shakespeare-caesar.txt', 'shakespeare-hamlet.txt', 'shakespeare-macbeth.txt']:\n",
    "    text += \"\" +  gutenberg.raw(fileid)\n",
    "print('corpus length:', len(text))"
   ]
  },
  {
   "cell_type": "code",
   "execution_count": 8,
   "metadata": {},
   "outputs": [
    {
     "name": "stdout",
     "output_type": "stream",
     "text": [
      "unique chars: 74\n"
     ]
    }
   ],
   "source": [
    "# pre-processing\n",
    "chars = sorted(list(set(text)))\n",
    "char_indices = dict((c, i) for i, c in enumerate(chars))\n",
    "indices_char = dict((i, c) for i, c in enumerate(chars))\n",
    "\n",
    "print(f'unique chars: {len(chars)}')"
   ]
  },
  {
   "cell_type": "code",
   "execution_count": 9,
   "metadata": {},
   "outputs": [
    {
     "name": "stdout",
     "output_type": "stream",
     "text": [
      "num training examples: 125168\n"
     ]
    }
   ],
   "source": [
    "SEQUENCE_LENGTH = 40\n",
    "step = 3\n",
    "sentences = []\n",
    "next_chars = []\n",
    "for i in range(0, len(text) - SEQUENCE_LENGTH, step):\n",
    "    sentences.append(text[i: i + SEQUENCE_LENGTH])\n",
    "    next_chars.append(text[i + SEQUENCE_LENGTH])\n",
    "print(f'num training examples: {len(sentences)}')"
   ]
  },
  {
   "cell_type": "code",
   "execution_count": 10,
   "metadata": {},
   "outputs": [],
   "source": [
    "X = np.zeros((len(sentences), SEQUENCE_LENGTH, len(chars)), dtype=np.bool)\n",
    "y = np.zeros((len(sentences), len(chars)), dtype=np.bool)\n",
    "for i, sentence in enumerate(sentences):\n",
    "    for t, char in enumerate(sentence):\n",
    "        X[i, t, char_indices[char]] = 1\n",
    "    y[i, char_indices[next_chars[i]]] = 1"
   ]
  },
  {
   "cell_type": "code",
   "execution_count": 11,
   "metadata": {},
   "outputs": [],
   "source": [
    "## building the model\n",
    "model = Sequential()\n",
    "model.add(LSTM(128, input_shape=(SEQUENCE_LENGTH, len(chars))))\n",
    "model.add(Dense(len(chars)))\n",
    "model.add(Activation('softmax'))"
   ]
  },
  {
   "cell_type": "code",
   "execution_count": 12,
   "metadata": {},
   "outputs": [
    {
     "name": "stdout",
     "output_type": "stream",
     "text": [
      "Train on 118909 samples, validate on 6259 samples\n",
      "Epoch 1/20\n",
      "118909/118909 [==============================] - 176s 1ms/step - loss: 3.0124 - acc: 0.1992 - val_loss: 2.7960 - val_acc: 0.2695\n",
      "Epoch 2/20\n",
      "118909/118909 [==============================] - 156s 1ms/step - loss: 2.7012 - acc: 0.2652 - val_loss: 2.6895 - val_acc: 0.2678\n",
      "Epoch 3/20\n",
      "118909/118909 [==============================] - 154s 1ms/step - loss: 2.6517 - acc: 0.2760 - val_loss: 2.8184 - val_acc: 0.2611\n",
      "Epoch 4/20\n",
      "118909/118909 [==============================] - 171s 1ms/step - loss: 2.6249 - acc: 0.2813 - val_loss: 2.9565 - val_acc: 0.2329\n",
      "Epoch 5/20\n",
      "118909/118909 [==============================] - 173s 1ms/step - loss: 2.6146 - acc: 0.2827 - val_loss: 2.7147 - val_acc: 0.2528\n",
      "Epoch 6/20\n",
      "118909/118909 [==============================] - 156s 1ms/step - loss: 2.6074 - acc: 0.2853 - val_loss: 2.6664 - val_acc: 0.2836\n",
      "Epoch 7/20\n",
      "118909/118909 [==============================] - 153s 1ms/step - loss: 2.5964 - acc: 0.2845 - val_loss: 2.7326 - val_acc: 0.2639\n",
      "Epoch 8/20\n",
      "118909/118909 [==============================] - 153s 1ms/step - loss: 2.5955 - acc: 0.2854 - val_loss: 2.7162 - val_acc: 0.2868\n",
      "Epoch 9/20\n",
      "118909/118909 [==============================] - 154s 1ms/step - loss: 2.5917 - acc: 0.2852 - val_loss: 2.6223 - val_acc: 0.2954\n",
      "Epoch 10/20\n",
      "118909/118909 [==============================] - 154s 1ms/step - loss: 2.5911 - acc: 0.2851 - val_loss: 2.6556 - val_acc: 0.2703\n",
      "Epoch 11/20\n",
      "118909/118909 [==============================] - 153s 1ms/step - loss: 2.5887 - acc: 0.2858 - val_loss: 2.6973 - val_acc: 0.2480\n",
      "Epoch 12/20\n",
      "118909/118909 [==============================] - 155s 1ms/step - loss: 2.5909 - acc: 0.2855 - val_loss: 2.6428 - val_acc: 0.2721\n",
      "Epoch 13/20\n",
      "118909/118909 [==============================] - 156s 1ms/step - loss: 2.5907 - acc: 0.2862 - val_loss: 2.6170 - val_acc: 0.2812\n",
      "Epoch 14/20\n",
      "118909/118909 [==============================] - 154s 1ms/step - loss: 2.5909 - acc: 0.2866 - val_loss: 2.6197 - val_acc: 0.2623\n",
      "Epoch 15/20\n",
      "118909/118909 [==============================] - 155s 1ms/step - loss: 2.5813 - acc: 0.2890 - val_loss: 2.5394 - val_acc: 0.3020\n",
      "Epoch 16/20\n",
      "118909/118909 [==============================] - 155s 1ms/step - loss: 2.5767 - acc: 0.2899 - val_loss: 2.6090 - val_acc: 0.2850\n",
      "Epoch 17/20\n",
      "118909/118909 [==============================] - 155s 1ms/step - loss: 2.5715 - acc: 0.2909 - val_loss: 2.6315 - val_acc: 0.2772\n",
      "Epoch 18/20\n",
      "118909/118909 [==============================] - 158s 1ms/step - loss: 2.5656 - acc: 0.2934 - val_loss: 2.5814 - val_acc: 0.2814\n",
      "Epoch 19/20\n",
      "118909/118909 [==============================] - 155s 1ms/step - loss: 2.5632 - acc: 0.2931 - val_loss: 2.6446 - val_acc: 0.2855\n",
      "Epoch 20/20\n",
      "118909/118909 [==============================] - 148s 1ms/step - loss: 2.5618 - acc: 0.2921 - val_loss: 2.6359 - val_acc: 0.2536\n"
     ]
    }
   ],
   "source": [
    "## training \n",
    "optimizer = RMSprop(lr=0.01)\n",
    "model.compile(loss='categorical_crossentropy', optimizer=optimizer, metrics=['accuracy'])\n",
    "history = model.fit(X, y, validation_split=0.05, batch_size=128, epochs=20, shuffle=True).history"
   ]
  },
  {
   "cell_type": "code",
   "execution_count": 13,
   "metadata": {},
   "outputs": [],
   "source": [
    "model.save('keras_model.h5')\n",
    "pickle.dump(history, open(\"history.p\", \"wb\"))"
   ]
  },
  {
   "cell_type": "code",
   "execution_count": 14,
   "metadata": {},
   "outputs": [],
   "source": [
    "model = load_model('keras_model.h5')\n",
    "history = pickle.load(open(\"history.p\", \"rb\"))"
   ]
  },
  {
   "cell_type": "code",
   "execution_count": 15,
   "metadata": {},
   "outputs": [
    {
     "data": {
      "image/png": "[encoded data removed]",
      "text/plain": [
       "<Figure size 432x288 with 1 Axes>"
      ]
     },
     "metadata": {},
     "output_type": "display_data"
    }
   ],
   "source": [
    "plt.plot(history['acc'])\n",
    "plt.plot(history['val_acc'])\n",
    "plt.title('model accuracy')\n",
    "plt.ylabel('accuracy')\n",
    "plt.xlabel('epoch')\n",
    "plt.legend(['train', 'test'], loc='upper left');"
   ]
  },
  {
   "cell_type": "code",
   "execution_count": 16,
   "metadata": {},
   "outputs": [
    {
     "data": {
      "image/png": "[encoded data removed]",
      "text/plain": [
       "<Figure size 432x288 with 1 Axes>"
      ]
     },
     "metadata": {},
     "output_type": "display_data"
    }
   ],
   "source": [
    "plt.plot(history['loss'])\n",
    "plt.plot(history['val_loss'])\n",
    "plt.title('model loss')\n",
    "plt.ylabel('loss')\n",
    "plt.xlabel('epoch')\n",
    "plt.legend(['train', 'test'], loc='upper left');"
   ]
  },
  {
   "cell_type": "code",
   "execution_count": 17,
   "metadata": {},
   "outputs": [],
   "source": [
    "def prepare_input(text):\n",
    "    x = np.zeros((1, SEQUENCE_LENGTH, len(chars)))\n",
    "    for t, char in enumerate(text):\n",
    "        x[0, t, char_indices[char]] = 1.\n",
    "        \n",
    "    return x"
   ]
  },
  {
   "cell_type": "code",
   "execution_count": 18,
   "metadata": {},
   "outputs": [],
   "source": [
    "def sample(preds, top_n=3):\n",
    "    preds = np.asarray(preds).astype('float64')\n",
    "    preds = np.log(preds)\n",
    "    exp_preds = np.exp(preds)\n",
    "    preds = exp_preds / np.sum(exp_preds)\n",
    "    \n",
    "    return heapq.nlargest(top_n, range(len(preds)), preds.take)"
   ]
  },
  {
   "cell_type": "code",
   "execution_count": 19,
   "metadata": {},
   "outputs": [],
   "source": [
    "def predict_completion(text):\n",
    "    original_text = text\n",
    "    generated = text\n",
    "    completion = ''\n",
    "    while True:\n",
    "        x = prepare_input(text)\n",
    "        preds = model.predict(x, verbose=0)[0]\n",
    "        next_index = sample(preds, top_n=1)[0]\n",
    "        next_char = indices_char[next_index]\n",
    "        text = text[1:] + next_char\n",
    "        completion += next_char\n",
    "        \n",
    "        if len(original_text + completion) + 2 > len(original_text) and next_char == ' ':\n",
    "            return completion"
   ]
  },
  {
   "cell_type": "code",
   "execution_count": 20,
   "metadata": {},
   "outputs": [],
   "source": [
    "def predict_completions(text, n=3):\n",
    "    x = prepare_input(text)\n",
    "    preds = model.predict(x, verbose=0)[0]\n",
    "    next_indices = sample(preds, n)\n",
    "    return [indices_char[idx] + predict_completion(text[1:] + indices_char[idx]) for idx in next_indices]"
   ]
  },
  {
   "cell_type": "code",
   "execution_count": 32,
   "metadata": {},
   "outputs": [],
   "source": [
    "quotes = [\n",
    "    \"It is not a lack of love, but a lack of friendship that makes unhappy marriages.\",\n",
    "    \"That which does not kill us makes us stronger.\",\n",
    "    \"I'm not upset that you lied to me, I'm upset that from now on I can't believe you.\",\n",
    "    \"And those who were seen dancing were thought to be insane by those who could not hear the music.\",\n",
    "    \"It is hard enough to remember my opinions, without also remembering my reasons for them!\",\n",
    "    text[:110],\n",
    "    \"My name is Khan. I drink water and I am not a terrorist. Please may I come in. To have a chat with you.\",\n",
    "    text[:120]\n",
    "]"
   ]
  },
  {
   "cell_type": "code",
   "execution_count": 35,
   "metadata": {
    "scrolled": true
   },
   "outputs": [
    {
     "name": "stdout",
     "output_type": "stream",
     "text": [
      "it is not a lack of love, but a lack of \n",
      "['vs ', 'win ', 'so ', 'be ', 'to ', 'o ']\n",
      "\n",
      "that which does not kill us makes us str\n",
      "['e ', 'os ', 'in ', 'as ', 're ', 'us ']\n",
      "\n",
      "i'm not upset that you lied to me, i'm u\n",
      "[' vs ', 'r ', 'u ', 'n ', 'll ', 'f ']"
     ]
    },
    {
     "name": "stderr",
     "output_type": "stream",
     "text": [
      "C:\\Users\\innovation\\Anaconda3\\envs\\tfp3.6\\lib\\site-packages\\ipykernel_launcher.py:3: RuntimeWarning: divide by zero encountered in log\n",
      "  This is separate from the ipykernel package so we can avoid doing imports until\n"
     ]
    },
    {
     "name": "stdout",
     "output_type": "stream",
     "text": [
      "\n",
      "\n",
      "and those who were seen dancing were tho\n",
      "['s ', 'r ', 'n ', 't ', 'u ', ' vs ']\n",
      "\n",
      "it is hard enough to remember my opinion\n",
      "[' vs ', 's ', 'e ', 'd ', 't ', 'g ']\n",
      "\n",
      "[the tragedie of julius caesar by willia\n",
      "['s ', 'r ', 'n ', 't ', 'll ', ' vs ']\n",
      "\n",
      "my name is khan. i drink water and i am \n",
      "['vs ', 'win ', 'so ', 'be ', 'to ', 'o ']\n",
      "\n",
      "[the tragedie of julius caesar by willia\n",
      "['s ', 'r ', 'n ', 't ', 'll ', ' vs ']\n",
      "\n"
     ]
    }
   ],
   "source": [
    "for q in quotes:\n",
    "    seq = q[:40].lower()\n",
    "    print(seq)\n",
    "    print(predict_completions(seq, 6))\n",
    "    print()"
   ]
  },
  {
   "cell_type": "code",
   "execution_count": 23,
   "metadata": {},
   "outputs": [
    {
     "data": {
      "text/plain": [
       "'[The Tragedie of Julius Caesar by William Shakespeare 1599]\\n\\n\\nActus Primus. Scoena Prima.\\n\\nEnter Fla'"
      ]
     },
     "execution_count": 23,
     "metadata": {},
     "output_type": "execute_result"
    }
   ],
   "source": [
    "text[:100]"
   ]
  },
  {
   "cell_type": "code",
   "execution_count": null,
   "metadata": {},
   "outputs": [],
   "source": []
  }
 ],
 "metadata": {
  "kernelspec": {
   "display_name": "Python 3",
   "language": "python",
   "name": "python3"
  },
  "language_info": {
   "codemirror_mode": {
    "name": "ipython",
    "version": 3
   },
   "file_extension": ".py",
   "mimetype": "text/x-python",
   "name": "python",
   "nbconvert_exporter": "python",
   "pygments_lexer": "ipython3",
   "version": "3.6.4"
  }
 },
 "nbformat": 4,
 "nbformat_minor": 2
}
