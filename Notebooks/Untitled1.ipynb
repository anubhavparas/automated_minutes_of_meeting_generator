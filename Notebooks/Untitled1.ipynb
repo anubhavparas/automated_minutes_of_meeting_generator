{
 "cells": [
  {
   "cell_type": "code",
   "execution_count": 1,
   "metadata": {},
   "outputs": [
    {
     "name": "stdout",
     "output_type": "stream",
     "text": [
      "Collecting google-cloud-speech\n",
      "  Using cached https://files.pythonhosted.org/packages/9a/a4/49b8e7b6b89facc17e554abe6aa401e01e076b64f79745e666460a8d5bd6/google_cloud_speech-0.36.0-py2.py3-none-any.whl\n",
      "Collecting google-api-core[grpc]<2.0.0dev,>=0.1.4 (from google-cloud-speech)\n",
      "  Using cached https://files.pythonhosted.org/packages/f1/88/7055a6248cb4682c4788a3d695a2e119c8502a618ce4bee72ef58c595f65/google_api_core-1.5.2-py2.py3-none-any.whl\n",
      "Requirement already satisfied: pytz in c:\\users\\innovation\\project\\softwares\\lib\\site-packages (from google-api-core[grpc]<2.0.0dev,>=0.1.4->google-cloud-speech)\n",
      "Collecting googleapis-common-protos!=1.5.4,<2.0dev,>=1.5.3 (from google-api-core[grpc]<2.0.0dev,>=0.1.4->google-cloud-speech)\n",
      "  Using cached https://files.pythonhosted.org/packages/ae/94/a256572abf5d10347301c638d5df552fab1515497270726e6b56698d2e99/googleapis-common-protos-1.5.5.tar.gz\n",
      "Requirement already satisfied: requests<3.0.0dev,>=2.18.0 in c:\\users\\innovation\\project\\softwares\\lib\\site-packages (from google-api-core[grpc]<2.0.0dev,>=0.1.4->google-cloud-speech)\n",
      "Requirement already satisfied: setuptools>=34.0.0 in c:\\users\\innovation\\project\\softwares\\lib\\site-packages (from google-api-core[grpc]<2.0.0dev,>=0.1.4->google-cloud-speech)\n",
      "Requirement already satisfied: futures>=3.2.0; python_version < \"3.2\" in c:\\users\\innovation\\project\\softwares\\lib\\site-packages (from google-api-core[grpc]<2.0.0dev,>=0.1.4->google-cloud-speech)\n",
      "Collecting google-auth<2.0dev,>=0.4.0 (from google-api-core[grpc]<2.0.0dev,>=0.1.4->google-cloud-speech)\n",
      "  Using cached https://files.pythonhosted.org/packages/24/62/8b9612b1055cfbecd577e252446fe5f939f6818d0b7ddc27bb872f233cd4/google_auth-1.6.1-py2.py3-none-any.whl\n",
      "Collecting protobuf>=3.4.0 (from google-api-core[grpc]<2.0.0dev,>=0.1.4->google-cloud-speech)\n",
      "  Downloading https://files.pythonhosted.org/packages/77/78/a7f1ce761e2c738e209857175cd4f90a8562d1bde32868a8cd5290d58926/protobuf-3.6.1-py2.py3-none-any.whl (390kB)\n",
      "Requirement already satisfied: six>=1.10.0 in c:\\users\\innovation\\project\\softwares\\lib\\site-packages (from google-api-core[grpc]<2.0.0dev,>=0.1.4->google-cloud-speech)\n",
      "Collecting grpcio>=1.8.2; extra == \"grpc\" (from google-api-core[grpc]<2.0.0dev,>=0.1.4->google-cloud-speech)\n",
      "  Downloading https://files.pythonhosted.org/packages/dc/cc/f0ac6c778ec4b00f8d212ba3f7a38d0fbcf95c8f2634018a0650053cecd1/grpcio-1.16.1-cp27-cp27m-win_amd64.whl (1.5MB)\n",
      "Requirement already satisfied: chardet<3.1.0,>=3.0.2 in c:\\users\\innovation\\project\\softwares\\lib\\site-packages (from requests<3.0.0dev,>=2.18.0->google-api-core[grpc]<2.0.0dev,>=0.1.4->google-cloud-speech)\n",
      "Requirement already satisfied: idna<2.7,>=2.5 in c:\\users\\innovation\\project\\softwares\\lib\\site-packages (from requests<3.0.0dev,>=2.18.0->google-api-core[grpc]<2.0.0dev,>=0.1.4->google-cloud-speech)\n",
      "Requirement already satisfied: urllib3<1.23,>=1.21.1 in c:\\users\\innovation\\project\\softwares\\lib\\site-packages (from requests<3.0.0dev,>=2.18.0->google-api-core[grpc]<2.0.0dev,>=0.1.4->google-cloud-speech)\n",
      "Requirement already satisfied: certifi>=2017.4.17 in c:\\users\\innovation\\project\\softwares\\lib\\site-packages (from requests<3.0.0dev,>=2.18.0->google-api-core[grpc]<2.0.0dev,>=0.1.4->google-cloud-speech)\n",
      "Collecting pyasn1-modules>=0.2.1 (from google-auth<2.0dev,>=0.4.0->google-api-core[grpc]<2.0.0dev,>=0.1.4->google-cloud-speech)\n",
      "  Using cached https://files.pythonhosted.org/packages/19/02/fa63f7ba30a0d7b925ca29d034510fc1ffde53264b71b4155022ddf3ab5d/pyasn1_modules-0.2.2-py2.py3-none-any.whl\n",
      "Collecting rsa>=3.1.4 (from google-auth<2.0dev,>=0.4.0->google-api-core[grpc]<2.0.0dev,>=0.1.4->google-cloud-speech)\n",
      "  Using cached https://files.pythonhosted.org/packages/02/e5/38518af393f7c214357079ce67a317307936896e961e35450b70fad2a9cf/rsa-4.0-py2.py3-none-any.whl\n",
      "Collecting cachetools>=2.0.0 (from google-auth<2.0dev,>=0.4.0->google-api-core[grpc]<2.0.0dev,>=0.1.4->google-cloud-speech)\n",
      "  Using cached https://files.pythonhosted.org/packages/76/7e/08cd3846bebeabb6b1cfc4af8aae649d90249b4aeed080bddb5297f1d73b/cachetools-3.0.0-py2.py3-none-any.whl\n",
      "Requirement already satisfied: enum34>=1.0.4 in c:\\users\\innovation\\project\\softwares\\lib\\site-packages (from grpcio>=1.8.2; extra == \"grpc\"->google-api-core[grpc]<2.0.0dev,>=0.1.4->google-cloud-speech)\n",
      "Collecting pyasn1<0.5.0,>=0.4.1 (from pyasn1-modules>=0.2.1->google-auth<2.0dev,>=0.4.0->google-api-core[grpc]<2.0.0dev,>=0.1.4->google-cloud-speech)\n",
      "  Using cached https://files.pythonhosted.org/packages/d1/a1/7790cc85db38daa874f6a2e6308131b9953feb1367f2ae2d1123bb93a9f5/pyasn1-0.4.4-py2.py3-none-any.whl\n",
      "Building wheels for collected packages: googleapis-common-protos\n",
      "  Running setup.py bdist_wheel for googleapis-common-protos: started\n",
      "  Running setup.py bdist_wheel for googleapis-common-protos: finished with status 'done'\n",
      "  Stored in directory: C:\\Users\\innovation\\AppData\\Local\\pip\\Cache\\wheels\\22\\57\\2c\\fdf1a5d9f14360bd1123c6dbac26eb784eba25223800239a69\n",
      "Successfully built googleapis-common-protos\n",
      "Installing collected packages: protobuf, googleapis-common-protos, pyasn1, pyasn1-modules, rsa, cachetools, google-auth, grpcio, google-api-core, google-cloud-speech\n",
      "Successfully installed cachetools-3.0.0 google-api-core-1.5.2 google-auth-1.6.1 google-cloud-speech-0.36.0 googleapis-common-protos-1.5.5 grpcio-1.16.1 protobuf-3.6.1 pyasn1-0.4.4 pyasn1-modules-0.2.2 rsa-4.0\n"
     ]
    },
    {
     "name": "stderr",
     "output_type": "stream",
     "text": [
      "You are using pip version 9.0.1, however version 18.1 is available.\n",
      "You should consider upgrading via the 'python -m pip install --upgrade pip' command.\n"
     ]
    }
   ],
   "source": [
    "! pip install google-cloud-speech\n"
   ]
  },
  {
   "cell_type": "code",
   "execution_count": 2,
   "metadata": {},
   "outputs": [
    {
     "ename": "ImportError",
     "evalue": "No module named google.cloud",
     "output_type": "error",
     "traceback": [
      "\u001b[1;31m---------------------------------------------------------------------------\u001b[0m",
      "\u001b[1;31mImportError\u001b[0m                               Traceback (most recent call last)",
      "\u001b[1;32m<ipython-input-2-77eb7b02c89e>\u001b[0m in \u001b[0;36m<module>\u001b[1;34m()\u001b[0m\n\u001b[0;32m      2\u001b[0m \u001b[1;32mimport\u001b[0m \u001b[0mos\u001b[0m\u001b[1;33m\u001b[0m\u001b[0m\n\u001b[0;32m      3\u001b[0m \u001b[1;33m\u001b[0m\u001b[0m\n\u001b[1;32m----> 4\u001b[1;33m \u001b[1;32mfrom\u001b[0m \u001b[0mgoogle\u001b[0m\u001b[1;33m.\u001b[0m\u001b[0mcloud\u001b[0m \u001b[1;32mimport\u001b[0m \u001b[0mspeech\u001b[0m\u001b[1;33m\u001b[0m\u001b[0m\n\u001b[0m",
      "\u001b[1;31mImportError\u001b[0m: No module named google.cloud"
     ]
    }
   ],
   "source": [
    "import io\n",
    "import os\n",
    "\n",
    "from google.cloud import speech"
   ]
  },
  {
   "cell_type": "code",
   "execution_count": null,
   "metadata": {},
   "outputs": [],
   "source": []
  }
 ],
 "metadata": {
  "kernelspec": {
   "display_name": "Python 3",
   "language": "python",
   "name": "python3"
  },
  "language_info": {
   "codemirror_mode": {
    "name": "ipython",
    "version": 3
   },
   "file_extension": ".py",
   "mimetype": "text/x-python",
   "name": "python",
   "nbconvert_exporter": "python",
   "pygments_lexer": "ipython3",
   "version": "3.6.4"
  }
 },
 "nbformat": 4,
 "nbformat_minor": 2
}
